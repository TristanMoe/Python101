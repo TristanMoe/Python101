{
 "cells": [
  {
   "attachments": {},
   "cell_type": "markdown",
   "metadata": {},
   "source": [
    "## **Assignment: Shopping List**\n",
    "You are going to create a shopping list program that allows the user to add, remove, and view items on their shopping list. You will be using concepts learned in the `python_basics.ipynb` notebook.\n",
    "\n",
    "**Part 1: Basic Data Types and Variables** <br>\n",
    "Create a variable called shopping_list that is an empty list.\n",
    "\n",
    "**Part 2: Collections** <br>\n",
    "Write a function called add_item that takes a parameter called item and adds it to the shopping list.\n",
    "\n",
    "Write a function called remove_item that takes a parameter called item and removes it from the shopping list.\n",
    "\n",
    "Write a function called view_list that prints out all the items currently on the shopping list.\n",
    "\n",
    "**Part 3: Control Structures** <br>\n",
    "Write a while loop that allows the user to repeatedly add or remove items from their shopping list, until they choose to exit.\n",
    "\n",
    "In the while loop, use an if/else statement to determine whether the user wants to add or remove an item.\n",
    "\n",
    "If the user chooses to add an item, call the add_item function with the item they want to add.\n",
    "\n",
    "If the user chooses to remove an item, call the remove_item function with the item they want to remove.\n",
    "\n",
    "If the user chooses to view their shopping list, call the view_list function.\n",
    "\n",
    "Add a \"quit\" option to the while loop so the user can exit the program.\n",
    "\n",
    "**Part 4: Functions** <br>\n",
    "Modify the add_item function so that it also takes a second parameter called quantity that represents the quantity of the item being added. \n",
    "\n",
    "The function should add the item to the shopping list quantity number of times.\n",
    "\n",
    "Modify the remove_item function so that it removes all instances of the specified item from the shopping list.\n",
    "\n",
    "Add a new function called clear_list that removes all items from the shopping list.\n",
    "\n",
    "**Part 5: Putting it all together** <br>\n",
    "Use the program to create a shopping list with at least 5 items.\n",
    "\n",
    "Test the program by adding and removing items from the list.\n",
    "\n",
    "Add some code to the program that calculates the total number of items on the shopping list and prints it out when the user views the list.\n",
    "\n",
    "Add some code to the program that calculates the total cost of the items on the shopping list and prints it out when the user views the list.\n",
    "\n",
    "Add some code to the program that allows the user to specify the unit price of each item, and calculates the total cost of the item based on the quantity and unit price.\n",
    "\n",
    "Bonus\n",
    "Modify the program so that it saves the shopping list to a file and loads it back in when the program starts.\""
   ]
  },
  {
   "cell_type": "markdown",
   "metadata": {},
   "source": []
  }
 ],
 "metadata": {
  "language_info": {
   "name": "python"
  },
  "orig_nbformat": 4
 },
 "nbformat": 4,
 "nbformat_minor": 2
}
