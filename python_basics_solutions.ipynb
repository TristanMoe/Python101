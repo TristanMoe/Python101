{
 "cells": [
  {
   "attachments": {},
   "cell_type": "markdown",
   "metadata": {},
   "source": [
    "## **0. How to use**\n",
    "This is a Python .ipynb file! A Python .ipynb file is a type of file used for interactive computing with Python, and is often used in data science and machine learning workflows. The \"ipynb\" stands for \"interactive Python notebook\". It is a file format that can be opened and edited using tools like Jupyter Notebook, Google Colab, or VS Code with Jupyter extension.\n",
    "\n",
    "We will be using Google Colab to execute the notebook. <br>\n",
    "You can run the entire notebook or you can execute each code block press shift + enter."
   ]
  },
  {
   "attachments": {},
   "cell_type": "markdown",
   "metadata": {},
   "source": [
    "## **1. Basic Data Types**\n",
    "**Numbers** <br>\n",
    "**TASK:** Write a program that takes two integers as input from the user and outputs their sum, difference and product."
   ]
  },
  {
   "cell_type": "code",
   "execution_count": null,
   "metadata": {},
   "outputs": [],
   "source": [
    "num1 = int(input(\"Enter the first number: \"))\n",
    "num2 = int(input(\"Enter the second number: \"))\n",
    "\n",
    "# Solution\n",
    "print(\"Sum:\", num1 + num2)\n",
    "print(\"Difference:\", num1 - num2)\n",
    "print(\"Product:\", num1 * num2)"
   ]
  },
  {
   "attachments": {},
   "cell_type": "markdown",
   "metadata": {},
   "source": [
    "**Strings** <br>\n",
    "**TASK:** Write a program that takes a sentence as input from the user and outputs the number of words in the sentence.<br>\n",
    "`hint: use function len(input)`"
   ]
  },
  {
   "cell_type": "code",
   "execution_count": null,
   "metadata": {},
   "outputs": [],
   "source": [
    "sentence = input(\"Enter a sentence: \")\n",
    "\n",
    "# Solution\n",
    "words = sentence.split()\n",
    "num_words = len(words)\n",
    "print(\"Number of words:\", num_words)"
   ]
  },
  {
   "attachments": {},
   "cell_type": "markdown",
   "metadata": {},
   "source": [
    "**Booleans**:<br>\n",
    "**Bonus task for the smart:** Write a program that takes a number as input from the user and outputs whether the number is even or odd.<br>\n",
    "`hint: use modules (num % 2 == 0) operator`"
   ]
  },
  {
   "cell_type": "code",
   "execution_count": null,
   "metadata": {},
   "outputs": [],
   "source": [
    "num = int(input(\"Enter a number: \"))\n",
    "\n",
    "# Solution\n",
    "if num % 2 == 0:\n",
    "    print(\"Even\")\n",
    "else:\n",
    "    print(\"Odd\")"
   ]
  },
  {
   "attachments": {},
   "cell_type": "markdown",
   "metadata": {},
   "source": [
    "## **2. Variables and Operators**\n",
    "**Assigning Variables**<br>\n",
    "**TASK:** Write a program that assigns values to two variables and swaps their values."
   ]
  },
  {
   "cell_type": "code",
   "execution_count": null,
   "metadata": {},
   "outputs": [],
   "source": [
    "a = 10\n",
    "b = 5\n",
    "\n",
    "# Solution\n",
    "print(\"Before swapping: a =\", a, \"b =\", b)\n",
    "a, b = b, a\n",
    "print(\"After swapping: a =\", a, \"b =\", b)"
   ]
  },
  {
   "attachments": {},
   "cell_type": "markdown",
   "metadata": {},
   "source": [
    "**Arithmetic operators**<br>\n",
    "**TASK:** Write a program that takes two numbers as input from the user and outputs their sum, difference, product and quotient."
   ]
  },
  {
   "cell_type": "code",
   "execution_count": null,
   "metadata": {},
   "outputs": [],
   "source": [
    "num1 = int(input(\"Enter the first number: \"))\n",
    "num2 = int(input(\"Enter the second number: \"))\n",
    "\n",
    "# Solution\n",
    "print(\"Sum:\", num1 + num2)\n",
    "print(\"Difference:\", num1 - num2)\n",
    "print(\"Product:\", num1 * num2)\n",
    "print(\"Quotient:\", num1 / num2)"
   ]
  },
  {
   "attachments": {},
   "cell_type": "markdown",
   "metadata": {},
   "source": [
    "**Comparison operators**<br>\n",
    "**TASK:** Write a program that takes a number as input from the user and outputs whether the number is positive, negative, or zero."
   ]
  },
  {
   "cell_type": "code",
   "execution_count": null,
   "metadata": {},
   "outputs": [],
   "source": [
    "num = int(input(\"Enter a number: \"))\n",
    "\n",
    "# Solution \n",
    "if num > 0:\n",
    "    print(\"Positive\")\n",
    "elif num < 0:\n",
    "    print(\"Negative\")\n",
    "else:\n",
    "    print(\"Zero\")"
   ]
  },
  {
   "attachments": {},
   "cell_type": "markdown",
   "metadata": {},
   "source": [
    "**Logical Operators**<br>\n",
    "**TASK:** Write a program that takes a number as input from the user and outputs whether the number is between 10 and 20 (inclusive)."
   ]
  },
  {
   "cell_type": "code",
   "execution_count": null,
   "metadata": {},
   "outputs": [],
   "source": [
    "num = int(input(\"Enter a number: \"))\n",
    "\n",
    "# Solution\n",
    "if num >= 10 and num <= 20:\n",
    "    print(\"Between 10 and 20\")\n",
    "else:\n",
    "    print(\"Not between 10 and 20\")"
   ]
  },
  {
   "attachments": {},
   "cell_type": "markdown",
   "metadata": {},
   "source": [
    "**Conditional statements**<br>\n",
    "**TASK:** Write a program that takes a number as input from the user and outputs whether the number is even or odd, and whether it is positive, negative, or zero."
   ]
  },
  {
   "cell_type": "code",
   "execution_count": null,
   "metadata": {},
   "outputs": [],
   "source": [
    "num = int(input(\"Enter a number: \"))\n",
    "\n",
    "# Solution\n",
    "if num % 2 == 0:\n",
    "    print(\"Even\")\n",
    "else:\n",
    "    print(\"Odd\")\n",
    "\n",
    "if num > 0:\n",
    "    print(\"Positive\")\n",
    "elif num < 0:\n",
    "    print(\"Negative\")\n",
    "else:\n",
    "    print(\"Zero\")"
   ]
  },
  {
   "attachments": {},
   "cell_type": "markdown",
   "metadata": {},
   "source": [
    "## **3. Collections**"
   ]
  },
  {
   "attachments": {},
   "cell_type": "markdown",
   "metadata": {},
   "source": [
    "In Python, collections are used to group multiple values into a single container. <br>\n",
    "There are four main collection types in Python: lists, tuples, dictionaries, and sets. <br>\n",
    "Each of these collection types has its own characteristics and use cases."
   ]
  },
  {
   "attachments": {},
   "cell_type": "markdown",
   "metadata": {},
   "source": [
    "**Lists**<br>\n",
    "A list is a collection of values that are ordered and changeable (mutable).<br>\n",
    "**TASK:** Create a list of your favorite foods, then print the first and last items in the list."
   ]
  },
  {
   "cell_type": "code",
   "execution_count": null,
   "metadata": {},
   "outputs": [],
   "source": [
    "favorite_foods = ['pizza', 'tacos', 'sushi', 'ice cream']\n",
    "\n",
    "# Solution\n",
    "print(favorite_foods[0])\n",
    "print(favorite_foods[-1])"
   ]
  },
  {
   "attachments": {},
   "cell_type": "markdown",
   "metadata": {},
   "source": [
    "**TASK:** Create a list of numbers, then use a loop to calculate the sum of all the numbers in the list."
   ]
  },
  {
   "cell_type": "code",
   "execution_count": null,
   "metadata": {},
   "outputs": [],
   "source": [
    "# Solution\n",
    "numbers = [3, 7, 12, 9, 4]\n",
    "total = 0\n",
    "for num in numbers:\n",
    "    total += num\n",
    "print(total)"
   ]
  },
  {
   "attachments": {},
   "cell_type": "markdown",
   "metadata": {},
   "source": [
    "**Tuples** <br>\n",
    "A tuple is a collection of values that are ordered and unchangeable (immutable). <br>\n",
    "**TASK:** Create a tuple containing the months of the year in order, then print the length of the tuple."
   ]
  },
  {
   "cell_type": "code",
   "execution_count": null,
   "metadata": {},
   "outputs": [],
   "source": [
    "months = ('January', 'February', 'March', 'April', 'May', 'June', 'July', 'August', 'September', 'October', 'November', 'December')\n",
    "# Solution \n",
    "print(len(months))"
   ]
  },
  {
   "attachments": {},
   "cell_type": "markdown",
   "metadata": {},
   "source": [
    "**TASK:** Create a tuple containing the dimensions of a rectangle (width, height), then calculate and print the area of the rectangle."
   ]
  },
  {
   "cell_type": "code",
   "execution_count": null,
   "metadata": {},
   "outputs": [],
   "source": [
    "# Solution \n",
    "dimensions = (8, 12)\n",
    "area = dimensions[0] * dimensions[1]\n",
    "print(area)"
   ]
  },
  {
   "attachments": {},
   "cell_type": "markdown",
   "metadata": {},
   "source": [
    "**Dictionary** <br>\n",
    "A dictionary is a collection of key-value pairs that are unordered and changeable (mutable). <br>\n",
    "**TASK:** Create a dictionary mapping the names of fruits to their colors, then print the color of one of the fruits."
   ]
  },
  {
   "cell_type": "code",
   "execution_count": null,
   "metadata": {},
   "outputs": [],
   "source": [
    "fruit_colors = {'apple': 'red', 'banana': 'yellow', 'grape': 'purple'}\n",
    "\n",
    "# Solution\n",
    "print(fruit_colors['banana'])"
   ]
  },
  {
   "attachments": {},
   "cell_type": "markdown",
   "metadata": {},
   "source": [
    "**TASK:** Create a dictionary mapping the names of countries to their populations (in millions), then calculate and print the total population. <br>\n",
    "`(hint: use a for loop)`."
   ]
  },
  {
   "cell_type": "code",
   "execution_count": null,
   "metadata": {},
   "outputs": [],
   "source": [
    "# Solution\n",
    "populations = {'China': 1441, 'India': 1380, 'United States': 331, 'Indonesia': 274, 'Brazil': 213}\n",
    "total_population = 0\n",
    "for country, population in populations.items():\n",
    "    total_population += population\n",
    "print(total_population)"
   ]
  },
  {
   "attachments": {},
   "cell_type": "markdown",
   "metadata": {},
   "source": [
    "**Sets**<br>\n",
    "A set is a collection of unique values that are unordered and changeable (mutable).<br>\n",
    "\n",
    "**TASK:** Create two sets containing the names of your favorite fruits and vegetables, then use set operations to find the items that are in both sets.\n",
    "\n",
    "`hint: use list1.intersection(list2) to find shared items`"
   ]
  },
  {
   "cell_type": "code",
   "execution_count": null,
   "metadata": {},
   "outputs": [],
   "source": [
    "favorite_fruits = {'apple', 'banana', 'kiwi', 'pear'}\n",
    "favorite_veggies = {'carrot', 'broccoli', 'spinach', 'banana'}\n",
    "\n",
    "# Solution \n",
    "shared_items = favorite_fruits.intersection(favorite_veggies)\n",
    "print(shared_items)"
   ]
  },
  {
   "attachments": {},
   "cell_type": "markdown",
   "metadata": {},
   "source": [
    "**TASK:** Create a set containing the letters of your name, then use a loop to print each letter in alphabetical order.<br>\n",
    "`hint: use the build-in function sorted()`"
   ]
  },
  {
   "cell_type": "code",
   "execution_count": null,
   "metadata": {},
   "outputs": [],
   "source": [
    "name = set('jennifer')\n",
    "\n",
    "# Solution \n",
    "for letter in sorted(name):\n",
    "    print(letter)"
   ]
  },
  {
   "attachments": {},
   "cell_type": "markdown",
   "metadata": {},
   "source": [
    "## **4. Control Structures** \n",
    "Control structures in Python are used to control the flow of a program. <br>\n",
    "They allow you to execute certain statements or blocks of code multiple times or to conditionally execute statements based on certain conditions. <br>\n",
    "\n",
    "There are three main types of control structures in Python: <br>\n",
    "**loops**, **conditional statements**, and **function calls**."
   ]
  },
  {
   "attachments": {},
   "cell_type": "markdown",
   "metadata": {},
   "source": [
    "### **4a. Loops**\n",
    "Loops are used to execute a block of code repeatedly. There are two types of loops in Python: for loops and while loops."
   ]
  },
  {
   "attachments": {},
   "cell_type": "markdown",
   "metadata": {},
   "source": [
    "**For Loops**<br>\n",
    "For loops are used to iterate over a sequence, such as a list or a string. The syntax for a for loop is as follows:\n",
    "\n",
    "``` python \n",
    "for variable in sequence:\n",
    "    # code to execute\n",
    "```\n",
    "\n",
    "Here, variable is a variable that takes on the value of each element in the sequence, and sequence is the sequence to iterate over. The code inside the for loop is executed once for each element in the sequence.\n",
    "\n",
    "**Task**: Write a program that prints out the numbers from 1 to 10 using a for loop."
   ]
  },
  {
   "cell_type": "code",
   "execution_count": null,
   "metadata": {},
   "outputs": [],
   "source": [
    "# Solution\n",
    "for i in range(1, 11):\n",
    "    print(i)"
   ]
  },
  {
   "attachments": {},
   "cell_type": "markdown",
   "metadata": {},
   "source": [
    "**Task:** Write a program that prints out the elements of a list using a for loop."
   ]
  },
  {
   "cell_type": "code",
   "execution_count": null,
   "metadata": {},
   "outputs": [],
   "source": [
    "fruits = ['apple', 'banana', 'cherry']\n",
    "\n",
    "# Solution\n",
    "for fruit in fruits:\n",
    "    print(fruit)"
   ]
  },
  {
   "attachments": {},
   "cell_type": "markdown",
   "metadata": {},
   "source": [
    "**While Loops**<br>\n",
    "While loops are used to execute a block of code repeatedly as long as a certain condition is true. The syntax for a while loop is as follows:\n",
    "\n",
    "``` python \n",
    "while condition:\n",
    "    # code to execute\n",
    "```\n",
    "\n",
    "Here, condition is a Boolean expression that is checked at the beginning of each iteration. If it is true, the code inside the while loop is executed. This continues until the condition becomes false.\n",
    "\n",
    "**Task:** Write a program that prints out the numbers from 1 to 10 using a while loop."
   ]
  },
  {
   "cell_type": "code",
   "execution_count": null,
   "metadata": {},
   "outputs": [],
   "source": [
    "i = 1\n",
    "\n",
    "# Solution \n",
    "while i <= 10:\n",
    "    print(i)\n",
    "    i += 1"
   ]
  },
  {
   "attachments": {},
   "cell_type": "markdown",
   "metadata": {},
   "source": [
    "**Task:** Write a program that repeatedly prompts the user for a number until they enter 0, then prints out the sum of all the numbers entered."
   ]
  },
  {
   "cell_type": "code",
   "execution_count": null,
   "metadata": {},
   "outputs": [
    {
     "name": "stdout",
     "output_type": "stream",
     "text": [
      "The sum is: 2\n"
     ]
    }
   ],
   "source": [
    "sum = 0\n",
    "num = 1\n",
    "\n",
    "# Solution\n",
    "while num != 0:\n",
    "    num = int(input(\"Enter a number (enter 0 to stop): \"))\n",
    "    sum += num\n",
    "print(\"The sum is:\", sum)"
   ]
  },
  {
   "attachments": {},
   "cell_type": "markdown",
   "metadata": {},
   "source": [
    "Additionally there is something called **Break and Continue Statements**<br>\n",
    "The `break` keyword is used to exit a loop prematurely, regardless of whether the loop's condition has been met or not. <br>\n",
    "The `continue` keyword on the other hand, is used to skip over the current iteration of a loop and move on to the next one. <br>\n",
    "\n",
    "Examples are:<br>\n",
    "**Break**<br>\n",
    "Program that prompts the user for a series of numbers, and prints out the first number that is greater than 10. \n",
    "``` python\n",
    "while True:\n",
    "    num = int(input(\"Enter a number: \"))\n",
    "    if num > 10:\n",
    "        print(num, \"is greater than 10.\")\n",
    "        break\n",
    "```\n",
    "\n",
    "\n",
    "**Continue**<br>\n",
    "Program that prints out all the even numbers from 1 to 10, using a for loop and the continue statement.\n",
    "``` python\n",
    "for i in range(1, 11):\n",
    "    if i % 2 == 1:\n",
    "        continue\n",
    "    print(i)\n",
    "\n",
    "```"
   ]
  },
  {
   "attachments": {},
   "cell_type": "markdown",
   "metadata": {},
   "source": [
    "### **4b. Conditional Statements**\n",
    "Conditional statements are used to execute different blocks of code based on different conditions. There are two types of conditional statements in Python: **if statements** and **switch statements**\n",
    "\n",
    "**if statements**<br>\n",
    "If statements are used to execute a block of code if a certain condition is true. The syntax for an if statement is as follows\n",
    "\n",
    "``` python\n",
    "if condition:\n",
    "    # code to execute if condition is true\n",
    "```\n",
    "\n",
    "**Task:** Write a program that asks the user to enter a letter, and then prints \"Vowel\" if the letter is a vowel (a, e, i, o, u), and \"Consonant\" otherwise."
   ]
  },
  {
   "cell_type": "code",
   "execution_count": null,
   "metadata": {},
   "outputs": [
    {
     "name": "stdout",
     "output_type": "stream",
     "text": [
      "Vowel\n"
     ]
    }
   ],
   "source": [
    "letter = input(\"Enter a letter: \")\n",
    "\n",
    "# Solution\n",
    "if letter.capitalize() in \"AEIOU\":\n",
    "    print(\"Vowel\")\n",
    "else:\n",
    "    print(\"Consonant\")"
   ]
  },
  {
   "attachments": {},
   "cell_type": "markdown",
   "metadata": {},
   "source": [
    "**Task:** Write a program that asks the user to enter a grade, and then prints \"Pass\" if the grade is 60 or higher, and \"Fail\" if it is lower than 60."
   ]
  },
  {
   "cell_type": "code",
   "execution_count": null,
   "metadata": {},
   "outputs": [
    {
     "name": "stdout",
     "output_type": "stream",
     "text": [
      "Fail\n"
     ]
    }
   ],
   "source": [
    "grade = int(input(\"Enter your grade: \"))\n",
    "\n",
    "# Solution\n",
    "if grade >= 60:\n",
    "    print(\"Pass\")\n",
    "else:\n",
    "    print(\"Fail\")"
   ]
  },
  {
   "attachments": {},
   "cell_type": "markdown",
   "metadata": {},
   "source": [
    "## **5. Functions**\n",
    "Functions are blocks of code that perform a specific task. Defining functions allows you to reuse code and make your programs more modular.\n",
    "\n",
    "Defining a function involves giving it a name and defining the code that should be executed when the function is called. Here's an example:\n",
    "\n",
    "``` python\n",
    "def greet(name):\n",
    "    print(\"Hello, \" + name + \"!\")\n",
    "```\n",
    "\n",
    "Functions can take one or more parameters, which are values that are passed into the function when it is called. These parameters can be used in the function's code. Here's an example:\n",
    "\n",
    "``` python\n",
    "def add_numbers(x, y):\n",
    "    result = x + y\n",
    "    print(result)\n",
    "```\n",
    "\n",
    "Functions can also return a value, which can be used by the code that called the function. To return a value from a function, use the return statement. Here's an example:\n",
    "\n",
    "``` python\n",
    "def square(x):\n",
    "    return x * x\n",
    "```"
   ]
  },
  {
   "attachments": {},
   "cell_type": "markdown",
   "metadata": {},
   "source": [
    "**Task:** Write a function called calculate_area that takes two parameters, base and height, and calculates the area of a triangle. The formula for the area of a triangle is 0.5 * base * height. The function should use a local variable called area to store the result and return it."
   ]
  },
  {
   "cell_type": "code",
   "execution_count": null,
   "metadata": {},
   "outputs": [
    {
     "name": "stdout",
     "output_type": "stream",
     "text": [
      "25.0\n"
     ]
    }
   ],
   "source": [
    "# Solution\n",
    "def calculate_area(base, height):\n",
    "    area = 0.5 * base * height\n",
    "    return area \n",
    "\n",
    "print(calculate_area(5, 10))"
   ]
  },
  {
   "attachments": {},
   "cell_type": "markdown",
   "metadata": {},
   "source": [
    "**Task:** Write a Python function called reverse_string() that takes a string as an input and returns the reversed string. However, if the input string contains any non-alphabetic characters (such as spaces, numbers, or special characters), the function should remove them before reversing the string. For example, if the input string is \"Hello World!\", the function should return \"dlroWolleH\"."
   ]
  },
  {
   "cell_type": "code",
   "execution_count": null,
   "metadata": {},
   "outputs": [],
   "source": [
    "def reverse_string(string):\n",
    "    s_reduced = [s for s in string if s.isalnum()]\n",
    "    return \"\".join(reversed(s_reduced))\n",
    "\n",
    "# Test the function\n",
    "input_str = \"Hello %!_ World!\"\n",
    "output_str = reverse_string(input_str)\n",
    "print(output_str) # should print \"dlroWolleH\""
   ]
  },
  {
   "attachments": {},
   "cell_type": "markdown",
   "metadata": {},
   "source": []
  }
 ],
 "metadata": {
  "kernelspec": {
   "display_name": "Python 3",
   "language": "python",
   "name": "python3"
  },
  "language_info": {
   "codemirror_mode": {
    "name": "ipython",
    "version": 3
   },
   "file_extension": ".py",
   "mimetype": "text/x-python",
   "name": "python",
   "nbconvert_exporter": "python",
   "pygments_lexer": "ipython3",
   "version": "3.11.3"
  },
  "orig_nbformat": 4,
  "vscode": {
   "interpreter": {
    "hash": "e8f25649a5c6c82f28ae93bae5631bd6cdb6f457bc80b9afc878486d033e1652"
   }
  }
 },
 "nbformat": 4,
 "nbformat_minor": 2
}
